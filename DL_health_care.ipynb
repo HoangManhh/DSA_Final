{
  "cells": [
    {
      "cell_type": "code",
      "execution_count": 8,
      "metadata": {
        "id": "ow0r_mqlJyyU"
      },
      "outputs": [],
      "source": [
        "import pandas as pd\n",
        "import torch\n",
        "import torch.nn as nn\n",
        "import torch.optim as optim\n",
        "from sklearn.model_selection import train_test_split\n",
        "from sklearn.preprocessing import LabelEncoder\n",
        "from torch.utils.data import DataLoader, TensorDataset\n",
        "import joblib\n"
      ]
    },
    {
      "cell_type": "code",
      "execution_count": 9,
      "metadata": {
        "colab": {
          "base_uri": "https://localhost:8080/"
        },
        "id": "2nWWO8nRKJuT",
        "outputId": "6bfbc1ba-5c99-4bd8-cc48-d25809ad8389"
      },
      "outputs": [
        {
          "data": {
            "text/plain": [
              "['label_encoder.pkl']"
            ]
          },
          "execution_count": 9,
          "metadata": {},
          "output_type": "execute_result"
        }
      ],
      "source": [
        "# Đọc dữ liệu\n",
        "df = pd.read_csv(\"/content/symptom_disease_dataset.csv\")  # Đảm bảo file này có sẵn\n",
        "\n",
        "# Chuyển 'yes'/'no' thành 1/0\n",
        "for col in df.columns[:-1]:  # bỏ cột \"disease\"\n",
        "    df[col] = df[col].map({'yes': 1, 'no': 0})\n",
        "\n",
        "# Mã hóa nhãn bệnh\n",
        "le = LabelEncoder()\n",
        "df[\"disease\"] = le.fit_transform(df[\"disease\"])\n",
        "\n",
        "# Tách features và labels\n",
        "X = df.drop(columns=\"disease\").values\n",
        "y = df[\"disease\"].values\n",
        "num_classes = len(le.classes_)\n",
        "\n",
        "# Lưu encoder\n",
        "joblib.dump(le, \"label_encoder.pkl\")\n",
        "\n"
      ]
    },
    {
      "cell_type": "code",
      "execution_count": 10,
      "metadata": {
        "id": "ARY9yDa3KNzj"
      },
      "outputs": [],
      "source": [
        "# Train/test split\n",
        "X_train, X_test, y_train, y_test = train_test_split(\n",
        "    X, y, test_size=0.2, random_state=42\n",
        ")\n",
        "\n",
        "# Chuyển sang tensor\n",
        "X_train = torch.tensor(X_train, dtype=torch.float32)\n",
        "X_test = torch.tensor(X_test, dtype=torch.float32)\n",
        "y_train = torch.tensor(y_train, dtype=torch.long)\n",
        "y_test = torch.tensor(y_test, dtype=torch.long)\n",
        "\n",
        "# DataLoader\n",
        "train_ds = TensorDataset(X_train, y_train)\n",
        "train_dl = DataLoader(train_ds, batch_size=8, shuffle=True)\n"
      ]
    },
    {
      "cell_type": "code",
      "execution_count": 11,
      "metadata": {
        "id": "pct8mgmSKRha"
      },
      "outputs": [],
      "source": [
        "\n",
        "# Mô hình mạng nơ-ron\n",
        "class DiseaseModel(nn.Module):\n",
        "    def __init__(self, input_size, num_classes):\n",
        "        super().__init__()\n",
        "        self.fc = nn.Sequential(\n",
        "            nn.Linear(input_size, 16),\n",
        "            nn.ReLU(),\n",
        "            nn.Linear(16, 8),\n",
        "            nn.ReLU(),\n",
        "            nn.Linear(8, num_classes)\n",
        "        )\n",
        "\n",
        "    def forward(self, x):\n",
        "        return self.fc(x)\n",
        "\n"
      ]
    },
    {
      "cell_type": "code",
      "execution_count": 12,
      "metadata": {
        "id": "WBjjzMAZKTqR"
      },
      "outputs": [],
      "source": [
        "model = DiseaseModel(input_size=X.shape[1], num_classes=num_classes)\n",
        "loss_fn = nn.CrossEntropyLoss()\n",
        "optimizer = optim.Adam(model.parameters(), lr=0.01)\n"
      ]
    },
    {
      "cell_type": "code",
      "execution_count": 13,
      "metadata": {
        "colab": {
          "base_uri": "https://localhost:8080/"
        },
        "id": "a7e_P6VnKTrE",
        "outputId": "912bfa84-c231-42d8-bd28-d15f3cf315bb"
      },
      "outputs": [
        {
          "name": "stdout",
          "output_type": "stream",
          "text": [
            "Epoch 1, Loss: 58.8864\n",
            "Epoch 2, Loss: 24.6406\n",
            "Epoch 3, Loss: 16.0899\n",
            "Epoch 4, Loss: 13.4036\n",
            "Epoch 5, Loss: 11.1079\n",
            "Epoch 6, Loss: 9.4931\n",
            "Epoch 7, Loss: 10.4640\n",
            "Epoch 8, Loss: 10.2223\n",
            "Epoch 9, Loss: 9.3137\n",
            "Epoch 10, Loss: 9.0822\n",
            "Epoch 11, Loss: 10.1980\n",
            "Epoch 12, Loss: 9.1364\n",
            "Epoch 13, Loss: 8.7909\n",
            "Epoch 14, Loss: 9.2048\n",
            "Epoch 15, Loss: 8.1493\n",
            "Epoch 16, Loss: 8.1202\n",
            "Epoch 17, Loss: 8.5567\n",
            "Epoch 18, Loss: 7.6673\n",
            "Epoch 19, Loss: 7.8581\n",
            "Epoch 20, Loss: 7.5721\n",
            "Epoch 21, Loss: 8.7421\n",
            "Epoch 22, Loss: 7.4987\n",
            "Epoch 23, Loss: 7.8520\n",
            "Epoch 24, Loss: 7.4754\n",
            "Epoch 25, Loss: 7.4228\n",
            "Epoch 26, Loss: 8.9959\n",
            "Epoch 27, Loss: 9.0438\n",
            "Epoch 28, Loss: 7.2866\n",
            "Epoch 29, Loss: 7.5274\n",
            "Epoch 30, Loss: 7.4011\n",
            "Epoch 31, Loss: 7.2446\n",
            "Epoch 32, Loss: 7.1747\n",
            "Epoch 33, Loss: 7.4417\n",
            "Epoch 34, Loss: 7.5034\n",
            "Epoch 35, Loss: 7.4250\n",
            "Epoch 36, Loss: 7.0681\n",
            "Epoch 37, Loss: 6.8708\n",
            "Epoch 38, Loss: 7.0020\n",
            "Epoch 39, Loss: 7.2464\n",
            "Epoch 40, Loss: 7.3309\n",
            "Epoch 41, Loss: 7.0033\n",
            "Epoch 42, Loss: 6.7557\n",
            "Epoch 43, Loss: 6.8887\n",
            "Epoch 44, Loss: 7.0199\n",
            "Epoch 45, Loss: 7.0881\n",
            "Epoch 46, Loss: 7.7213\n",
            "Epoch 47, Loss: 7.3504\n",
            "Epoch 48, Loss: 6.9105\n",
            "Epoch 49, Loss: 6.6928\n",
            "Epoch 50, Loss: 7.1010\n",
            "Epoch 51, Loss: 7.4286\n",
            "Epoch 52, Loss: 7.0377\n",
            "Epoch 53, Loss: 6.6045\n",
            "Epoch 54, Loss: 6.4813\n",
            "Epoch 55, Loss: 6.9680\n",
            "Epoch 56, Loss: 6.8936\n",
            "Epoch 57, Loss: 6.7567\n",
            "Epoch 58, Loss: 6.8592\n",
            "Epoch 59, Loss: 6.1894\n",
            "Epoch 60, Loss: 6.8602\n",
            "Epoch 61, Loss: 6.7163\n",
            "Epoch 62, Loss: 6.7314\n",
            "Epoch 63, Loss: 6.7713\n",
            "Epoch 64, Loss: 6.5196\n",
            "Epoch 65, Loss: 6.5322\n",
            "Epoch 66, Loss: 7.1835\n",
            "Epoch 67, Loss: 7.1098\n",
            "Epoch 68, Loss: 6.7182\n",
            "Epoch 69, Loss: 6.8622\n",
            "Epoch 70, Loss: 7.4467\n",
            "Epoch 71, Loss: 6.4911\n",
            "Epoch 72, Loss: 7.2686\n",
            "Epoch 73, Loss: 6.6170\n",
            "Epoch 74, Loss: 6.5276\n",
            "Epoch 75, Loss: 6.7234\n",
            "Epoch 76, Loss: 6.3785\n",
            "Epoch 77, Loss: 6.6735\n",
            "Epoch 78, Loss: 6.3494\n",
            "Epoch 79, Loss: 6.6447\n",
            "Epoch 80, Loss: 6.6144\n",
            "Epoch 81, Loss: 8.6894\n",
            "Epoch 82, Loss: 6.7158\n",
            "Epoch 83, Loss: 6.3173\n",
            "Epoch 84, Loss: 6.6017\n",
            "Epoch 85, Loss: 6.4988\n",
            "Epoch 86, Loss: 6.2599\n",
            "Epoch 87, Loss: 6.5508\n",
            "Epoch 88, Loss: 6.6291\n",
            "Epoch 89, Loss: 7.3654\n",
            "Epoch 90, Loss: 6.6275\n",
            "Epoch 91, Loss: 6.6059\n",
            "Epoch 92, Loss: 6.5502\n",
            "Epoch 93, Loss: 6.5265\n",
            "Epoch 94, Loss: 6.4663\n",
            "Epoch 95, Loss: 6.7371\n",
            "Epoch 96, Loss: 6.6401\n",
            "Epoch 97, Loss: 7.1247\n",
            "Epoch 98, Loss: 6.8185\n",
            "Epoch 99, Loss: 6.5663\n",
            "Epoch 100, Loss: 6.3158\n"
          ]
        }
      ],
      "source": [
        "# Huấn luyện mô hình\n",
        "for epoch in range(100):  # 100 epoch\n",
        "    model.train()\n",
        "    total_loss = 0\n",
        "    for xb, yb in train_dl:\n",
        "        preds = model(xb)\n",
        "        loss = loss_fn(preds, yb)\n",
        "        optimizer.zero_grad()\n",
        "        loss.backward()\n",
        "        optimizer.step()\n",
        "        total_loss += loss.item()\n",
        "    print(f\"Epoch {epoch+1}, Loss: {total_loss:.4f}\")\n"
      ]
    },
    {
      "cell_type": "code",
      "execution_count": null,
      "metadata": {
        "colab": {
          "base_uri": "https://localhost:8080/"
        },
        "id": "XipYwEMrKYgS",
        "outputId": "142dfc73-2f05-401f-deaf-2fc96afcef36"
      },
      "outputs": [
        {
          "name": "stdout",
          "output_type": "stream",
          "text": [
            "✅ Model and label encoder saved.\n"
          ]
        }
      ],
      "source": [
        "# Lưu mô hình\n",
        "torch.save(model.state_dict(), \"disease_model.pt\")\n",
        "print(\" Model and label encoder saved.\")\n"
      ]
    },
    {
      "cell_type": "code",
      "execution_count": null,
      "metadata": {
        "colab": {
          "base_uri": "https://localhost:8080/"
        },
        "id": "63mCChHCMH_R",
        "outputId": "19e4c206-4e54-47d4-be4c-4ccb27fc7308"
      },
      "outputs": [
        {
          "name": "stdout",
          "output_type": "stream",
          "text": [
            "🎯 Test Accuracy: 94.00%\n",
            "\n",
            "📌 Một số dự đoán mẫu kèm dữ liệu đầu vào:\n",
            "\n",
            "🧪 Mẫu 1\n",
            "  Triệu chứng đầu vào: headache, runny_nose, fever, cough, sore_throat, fatigue\n",
            "  Thực tế: flu\n",
            "  Dự đoán: flu\n",
            "\n",
            "🧪 Mẫu 2\n",
            "  Triệu chứng đầu vào: headache, sore_throat, sneeze, nausea\n",
            "  Thực tế: stomach_ache\n",
            "  Dự đoán: stomach_ache\n",
            "\n",
            "🧪 Mẫu 3\n",
            "  Triệu chứng đầu vào: headache, runny_nose, fever, cough, sore_throat, fatigue\n",
            "  Thực tế: covid-19\n",
            "  Dự đoán: flu\n",
            "\n",
            "🧪 Mẫu 4\n",
            "  Triệu chứng đầu vào: headache, fever, cough, sore_throat, sneeze, fatigue\n",
            "  Thực tế: covid-19\n",
            "  Dự đoán: covid-19\n",
            "\n",
            "🧪 Mẫu 5\n",
            "  Triệu chứng đầu vào: runny_nose, cough, sneeze, nausea\n",
            "  Thực tế: cold\n",
            "  Dự đoán: cold\n"
          ]
        }
      ],
      "source": [
        "# Đánh giá mô hình trên tập test\n",
        "model.eval()\n",
        "with torch.no_grad():\n",
        "    preds = model(X_test)\n",
        "    predicted_classes = torch.argmax(preds, dim=1)\n",
        "    correct = (predicted_classes == y_test).sum().item()\n",
        "    total = y_test.size(0)\n",
        "    accuracy = correct / total * 100\n",
        "    print(f\"Test Accuracy: {accuracy:.2f}%\")\n",
        "\n",
        "# In 5 mẫu test đầu tiên: input, label thật và label dự đoán\n",
        "print(\"\\n Một số dự đoán mẫu kèm dữ liệu đầu vào:\")\n",
        "symptom_names = df.columns[:-1]  # bỏ cột 'disease'\n",
        "for i in range(5):\n",
        "    input_symptoms = X_test[i].numpy().astype(int)\n",
        "    symptoms = [symptom_names[j] for j, val in enumerate(input_symptoms) if val == 1]\n",
        "    actual_label = le.inverse_transform([y_test[i].item()])[0]\n",
        "    predicted_label = le.inverse_transform([predicted_classes[i].item()])[0]\n",
        "\n",
        "    print(f\"\\n Mẫu {i+1}\")\n",
        "    print(f\"  Triệu chứng đầu vào: {', '.join(symptoms) if symptoms else 'Không có'}\")\n",
        "    print(f\"  Thực tế: {actual_label}\")\n",
        "    print(f\"  Dự đoán: {predicted_label}\")\n"
      ]
    }
  ],
  "metadata": {
    "accelerator": "GPU",
    "colab": {
      "gpuType": "T4",
      "provenance": []
    },
    "kernelspec": {
      "display_name": "Python 3",
      "name": "python3"
    },
    "language_info": {
      "name": "python"
    }
  },
  "nbformat": 4,
  "nbformat_minor": 0
}
